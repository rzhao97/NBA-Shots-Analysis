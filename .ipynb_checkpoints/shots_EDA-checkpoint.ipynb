{
 "cells": [
  {
   "cell_type": "markdown",
   "metadata": {},
   "source": [
    "# NBA Shots Taken 2014-15"
   ]
  },
  {
   "cell_type": "markdown",
   "metadata": {},
   "source": [
    "#### Import Python Packages"
   ]
  },
  {
   "cell_type": "code",
   "execution_count": 1,
   "metadata": {},
   "outputs": [],
   "source": [
    "%matplotlib inline\n",
    "\n",
    "import numpy as np\n",
    "import pandas as pd\n",
    "from scipy import stats\n",
    "import matplotlib.pyplot as plt\n",
    "import seaborn as sns\n",
    "\n",
    "#plt.style.use('ggplot')\n",
    "sns.set(color_codes=True)"
   ]
  },
  {
   "cell_type": "code",
   "execution_count": 2,
   "metadata": {},
   "outputs": [],
   "source": [
    "from src.shot_functions import *"
   ]
  },
  {
   "cell_type": "markdown",
   "metadata": {},
   "source": [
    "## Exploratory Data Analysis"
   ]
  },
  {
   "cell_type": "markdown",
   "metadata": {},
   "source": [
    "#### Basic Data Information"
   ]
  },
  {
   "cell_type": "code",
   "execution_count": 3,
   "metadata": {},
   "outputs": [],
   "source": [
    "df = pd.read_csv('data/clean_shots_data.csv')"
   ]
  },
  {
   "cell_type": "code",
   "execution_count": 4,
   "metadata": {},
   "outputs": [
    {
     "data": {
      "text/plain": [
       "Index(['GAME_ID', 'SHOT_NUMBER', 'PERIOD', 'GAME_CLOCK', 'SHOT_CLOCK',\n",
       "       'DRIBBLES', 'TOUCH_TIME', 'SHOT_DIST', 'CLOSE_DEF_DIST', 'PTS_TYPE',\n",
       "       'SHOT_RESULT', 'FGM', 'PTS', 'player_name'],\n",
       "      dtype='object')"
      ]
     },
     "execution_count": 4,
     "metadata": {},
     "output_type": "execute_result"
    }
   ],
   "source": [
    "df.columns"
   ]
  },
  {
   "cell_type": "code",
   "execution_count": 5,
   "metadata": {},
   "outputs": [
    {
     "data": {
      "text/html": [
       "<div>\n",
       "<style scoped>\n",
       "    .dataframe tbody tr th:only-of-type {\n",
       "        vertical-align: middle;\n",
       "    }\n",
       "\n",
       "    .dataframe tbody tr th {\n",
       "        vertical-align: top;\n",
       "    }\n",
       "\n",
       "    .dataframe thead th {\n",
       "        text-align: right;\n",
       "    }\n",
       "</style>\n",
       "<table border=\"1\" class=\"dataframe\">\n",
       "  <thead>\n",
       "    <tr style=\"text-align: right;\">\n",
       "      <th></th>\n",
       "      <th>GAME_ID</th>\n",
       "      <th>SHOT_NUMBER</th>\n",
       "      <th>PERIOD</th>\n",
       "      <th>GAME_CLOCK</th>\n",
       "      <th>SHOT_CLOCK</th>\n",
       "      <th>DRIBBLES</th>\n",
       "      <th>TOUCH_TIME</th>\n",
       "      <th>SHOT_DIST</th>\n",
       "      <th>CLOSE_DEF_DIST</th>\n",
       "      <th>PTS_TYPE</th>\n",
       "      <th>FGM</th>\n",
       "      <th>PTS</th>\n",
       "    </tr>\n",
       "  </thead>\n",
       "  <tbody>\n",
       "    <tr>\n",
       "      <th>count</th>\n",
       "      <td>1.179360e+05</td>\n",
       "      <td>117936.000000</td>\n",
       "      <td>117936.000000</td>\n",
       "      <td>117936.000000</td>\n",
       "      <td>117936.000000</td>\n",
       "      <td>117936.000000</td>\n",
       "      <td>117936.000000</td>\n",
       "      <td>117936.000000</td>\n",
       "      <td>117936.000000</td>\n",
       "      <td>117936.000000</td>\n",
       "      <td>117936.000000</td>\n",
       "      <td>117936.000000</td>\n",
       "    </tr>\n",
       "    <tr>\n",
       "      <th>mean</th>\n",
       "      <td>2.140045e+07</td>\n",
       "      <td>6.476360</td>\n",
       "      <td>2.469941</td>\n",
       "      <td>1412.762125</td>\n",
       "      <td>12.327384</td>\n",
       "      <td>2.056047</td>\n",
       "      <td>2.837739</td>\n",
       "      <td>13.505609</td>\n",
       "      <td>4.124675</td>\n",
       "      <td>2.257920</td>\n",
       "      <td>0.457129</td>\n",
       "      <td>1.007368</td>\n",
       "    </tr>\n",
       "    <tr>\n",
       "      <th>std</th>\n",
       "      <td>2.577709e+02</td>\n",
       "      <td>4.688038</td>\n",
       "      <td>1.138098</td>\n",
       "      <td>838.330181</td>\n",
       "      <td>5.666529</td>\n",
       "      <td>3.449101</td>\n",
       "      <td>2.944934</td>\n",
       "      <td>8.733111</td>\n",
       "      <td>2.724360</td>\n",
       "      <td>0.437491</td>\n",
       "      <td>0.498161</td>\n",
       "      <td>1.131055</td>\n",
       "    </tr>\n",
       "    <tr>\n",
       "      <th>min</th>\n",
       "      <td>2.140000e+07</td>\n",
       "      <td>1.000000</td>\n",
       "      <td>1.000000</td>\n",
       "      <td>3.000000</td>\n",
       "      <td>0.000000</td>\n",
       "      <td>0.000000</td>\n",
       "      <td>0.100000</td>\n",
       "      <td>0.000000</td>\n",
       "      <td>0.000000</td>\n",
       "      <td>2.000000</td>\n",
       "      <td>0.000000</td>\n",
       "      <td>0.000000</td>\n",
       "    </tr>\n",
       "    <tr>\n",
       "      <th>25%</th>\n",
       "      <td>2.140023e+07</td>\n",
       "      <td>3.000000</td>\n",
       "      <td>1.000000</td>\n",
       "      <td>668.000000</td>\n",
       "      <td>8.100000</td>\n",
       "      <td>0.000000</td>\n",
       "      <td>0.900000</td>\n",
       "      <td>4.800000</td>\n",
       "      <td>2.300000</td>\n",
       "      <td>2.000000</td>\n",
       "      <td>0.000000</td>\n",
       "      <td>0.000000</td>\n",
       "    </tr>\n",
       "    <tr>\n",
       "      <th>50%</th>\n",
       "      <td>2.140045e+07</td>\n",
       "      <td>5.000000</td>\n",
       "      <td>2.000000</td>\n",
       "      <td>1403.000000</td>\n",
       "      <td>12.200000</td>\n",
       "      <td>1.000000</td>\n",
       "      <td>1.700000</td>\n",
       "      <td>13.500000</td>\n",
       "      <td>3.700000</td>\n",
       "      <td>2.000000</td>\n",
       "      <td>0.000000</td>\n",
       "      <td>0.000000</td>\n",
       "    </tr>\n",
       "    <tr>\n",
       "      <th>75%</th>\n",
       "      <td>2.140067e+07</td>\n",
       "      <td>9.000000</td>\n",
       "      <td>3.000000</td>\n",
       "      <td>2110.000000</td>\n",
       "      <td>16.400000</td>\n",
       "      <td>3.000000</td>\n",
       "      <td>3.800000</td>\n",
       "      <td>22.500000</td>\n",
       "      <td>5.300000</td>\n",
       "      <td>3.000000</td>\n",
       "      <td>1.000000</td>\n",
       "      <td>2.000000</td>\n",
       "    </tr>\n",
       "    <tr>\n",
       "      <th>max</th>\n",
       "      <td>2.140091e+07</td>\n",
       "      <td>37.000000</td>\n",
       "      <td>7.000000</td>\n",
       "      <td>3763.000000</td>\n",
       "      <td>24.000000</td>\n",
       "      <td>32.000000</td>\n",
       "      <td>24.900000</td>\n",
       "      <td>42.800000</td>\n",
       "      <td>53.200000</td>\n",
       "      <td>3.000000</td>\n",
       "      <td>1.000000</td>\n",
       "      <td>3.000000</td>\n",
       "    </tr>\n",
       "  </tbody>\n",
       "</table>\n",
       "</div>"
      ],
      "text/plain": [
       "            GAME_ID    SHOT_NUMBER         PERIOD     GAME_CLOCK  \\\n",
       "count  1.179360e+05  117936.000000  117936.000000  117936.000000   \n",
       "mean   2.140045e+07       6.476360       2.469941    1412.762125   \n",
       "std    2.577709e+02       4.688038       1.138098     838.330181   \n",
       "min    2.140000e+07       1.000000       1.000000       3.000000   \n",
       "25%    2.140023e+07       3.000000       1.000000     668.000000   \n",
       "50%    2.140045e+07       5.000000       2.000000    1403.000000   \n",
       "75%    2.140067e+07       9.000000       3.000000    2110.000000   \n",
       "max    2.140091e+07      37.000000       7.000000    3763.000000   \n",
       "\n",
       "          SHOT_CLOCK       DRIBBLES     TOUCH_TIME      SHOT_DIST  \\\n",
       "count  117936.000000  117936.000000  117936.000000  117936.000000   \n",
       "mean       12.327384       2.056047       2.837739      13.505609   \n",
       "std         5.666529       3.449101       2.944934       8.733111   \n",
       "min         0.000000       0.000000       0.100000       0.000000   \n",
       "25%         8.100000       0.000000       0.900000       4.800000   \n",
       "50%        12.200000       1.000000       1.700000      13.500000   \n",
       "75%        16.400000       3.000000       3.800000      22.500000   \n",
       "max        24.000000      32.000000      24.900000      42.800000   \n",
       "\n",
       "       CLOSE_DEF_DIST       PTS_TYPE            FGM            PTS  \n",
       "count   117936.000000  117936.000000  117936.000000  117936.000000  \n",
       "mean         4.124675       2.257920       0.457129       1.007368  \n",
       "std          2.724360       0.437491       0.498161       1.131055  \n",
       "min          0.000000       2.000000       0.000000       0.000000  \n",
       "25%          2.300000       2.000000       0.000000       0.000000  \n",
       "50%          3.700000       2.000000       0.000000       0.000000  \n",
       "75%          5.300000       3.000000       1.000000       2.000000  \n",
       "max         53.200000       3.000000       1.000000       3.000000  "
      ]
     },
     "execution_count": 5,
     "metadata": {},
     "output_type": "execute_result"
    }
   ],
   "source": [
    "df.describe()"
   ]
  },
  {
   "cell_type": "markdown",
   "metadata": {},
   "source": [
    "#### Deeper Dive into the Data"
   ]
  },
  {
   "cell_type": "code",
   "execution_count": 6,
   "metadata": {},
   "outputs": [],
   "source": [
    "total_count = 117936\n",
    "made_shot_count = df.FGM[df.FGM==1].count()\n",
    "miss_shot_count = df.FGM[df.FGM==0].count()\n",
    "twopt_shot_count = df.PTS_TYPE[df.PTS_TYPE==2].count()\n",
    "threept_shot_count = df.PTS_TYPE[df.PTS_TYPE==3].count()"
   ]
  },
  {
   "cell_type": "code",
   "execution_count": 7,
   "metadata": {},
   "outputs": [
    {
     "data": {
      "text/plain": [
       "0.7420804504137838"
      ]
     },
     "execution_count": 7,
     "metadata": {},
     "output_type": "execute_result"
    }
   ],
   "source": [
    "# Percentage of 2 point shots taken\n",
    "twopt_shot_count/total_count"
   ]
  },
  {
   "cell_type": "code",
   "execution_count": 8,
   "metadata": {},
   "outputs": [
    {
     "data": {
      "text/plain": [
       "0.25791954958621627"
      ]
     },
     "execution_count": 8,
     "metadata": {},
     "output_type": "execute_result"
    }
   ],
   "source": [
    "# Percentage of 3 point shots taken\n",
    "threept_shot_count/total_count"
   ]
  },
  {
   "cell_type": "code",
   "execution_count": 9,
   "metadata": {},
   "outputs": [
    {
     "data": {
      "text/plain": [
       "0.4571292904626238"
      ]
     },
     "execution_count": 9,
     "metadata": {},
     "output_type": "execute_result"
    }
   ],
   "source": [
    "# Percentage of made shots\n",
    "made_shot_count/total_count"
   ]
  },
  {
   "cell_type": "code",
   "execution_count": 10,
   "metadata": {},
   "outputs": [
    {
     "data": {
      "text/plain": [
       "0.5428707095373762"
      ]
     },
     "execution_count": 10,
     "metadata": {},
     "output_type": "execute_result"
    }
   ],
   "source": [
    "# Percentage of missed shots\n",
    "miss_shot_count/total_count"
   ]
  },
  {
   "cell_type": "code",
   "execution_count": 19,
   "metadata": {},
   "outputs": [],
   "source": [
    "two = df[(df.PTS_TYPE == 2)]\n",
    "three = df[(df.PTS_TYPE == 3)]\n",
    "\n",
    "misstwo = two[(two.FGM == 0)]\n",
    "madetwo = two[(two.FGM == 1)]\n",
    "\n",
    "missthree = three[(three.FGM == 0)]\n",
    "madethree = three[(three.FGM == 1)]\n",
    "\n",
    "miss = df[(df.FGM == 0)]\n",
    "made = df[(df.FGM == 1)]"
   ]
  },
  {
   "cell_type": "code",
   "execution_count": 20,
   "metadata": {},
   "outputs": [],
   "source": [
    "twopt_made_count = made.PTS_TYPE[made.PTS_TYPE==2].count()\n",
    "threept_made_count = made.PTS_TYPE[made.PTS_TYPE==3].count()"
   ]
  },
  {
   "cell_type": "code",
   "execution_count": 21,
   "metadata": {},
   "outputs": [
    {
     "data": {
      "text/plain": [
       "0.4905390891016705"
      ]
     },
     "execution_count": 21,
     "metadata": {},
     "output_type": "execute_result"
    }
   ],
   "source": [
    "# Percentage of 2 point shots made\n",
    "twopt_made_count/twopt_shot_count"
   ]
  },
  {
   "cell_type": "code",
   "execution_count": 22,
   "metadata": {},
   "outputs": [
    {
     "data": {
      "text/plain": [
       "0.36100335327766453"
      ]
     },
     "execution_count": 22,
     "metadata": {},
     "output_type": "execute_result"
    }
   ],
   "source": [
    "# Pecentage of 3 point shots made\n",
    "threept_made_count/threept_shot_count"
   ]
  },
  {
   "cell_type": "markdown",
   "metadata": {},
   "source": [
    "### Graphs"
   ]
  },
  {
   "cell_type": "code",
   "execution_count": 32,
   "metadata": {},
   "outputs": [
    {
     "data": {
      "text/plain": [
       "''"
      ]
     },
     "execution_count": 32,
     "metadata": {},
     "output_type": "execute_result"
    },
    {
     "data": {
      "image/png": "[encoded data removed]",
      "text/plain": [
       "<Figure size 864x288 with 2 Axes>"
      ]
     },
     "metadata": {},
     "output_type": "display_data"
    }
   ],
   "source": [
    "fig, axs = plt.subplots(1,2,figsize=(12,4))\n",
    "axs.flatten()\n",
    "\n",
    "(sns.distplot(madetwo.SHOT_DIST, ax=axs[0], label='Made')\n",
    "    .set_title(\"2 Point Shots Made vs Missed\",fontsize=17))\n",
    "(sns.distplot(misstwo.SHOT_DIST, ax=axs[0], label='Missed')\n",
    "    .set_xlabel('Shot Distance'))\n",
    "\n",
    "(sns.distplot(madethree.SHOT_DIST, ax=axs[1], label='Made')\n",
    "    .set_title(\"3 Point Shots Made vs Missed\",fontsize=17))\n",
    "(sns.distplot(missthree.SHOT_DIST, ax=axs[1], label='Missed')\n",
    "    .set_xlabel('Shot Distance'))\n",
    "\n",
    "axs[1].set_xlim(20,35)\n",
    "\n",
    "axs[0].legend()\n",
    "axs[1].legend()\n",
    ";"
   ]
  },
  {
   "cell_type": "code",
   "execution_count": null,
   "metadata": {},
   "outputs": [],
   "source": [
    "fig, ax = plt.subplots()\n",
    "(sns.distplot(made.SHOT_DIST, ax=ax, label='Made')\n",
    "    .set_title(\"Made vs Missed for Shot Distance\",fontsize=17))\n",
    "(sns.distplot(miss.SHOT_DIST, ax=ax, label='Missed')\n",
    "    .set_xlabel('Shot Distance (ft)'))\n",
    "ax.legend()\n",
    ";"
   ]
  },
  {
   "cell_type": "code",
   "execution_count": null,
   "metadata": {},
   "outputs": [],
   "source": [
    "fig, axs = plt.subplots(1,2,figsize=(12,4))\n",
    "axs.flatten()\n",
    "\n",
    "(sns.distplot(made.GAME_CLOCK, ax=axs[0], label='Made')\n",
    "    .set_title(\"Made vs Missed Over the Game\",fontsize=17))\n",
    "(sns.distplot(miss.GAME_CLOCK, ax=axs[0], label='Missed')\n",
    "    .set_xlabel('Game Clock'))\n",
    "\n",
    "(sns.distplot(made.SHOT_DIST, ax=axs[1], label='Made')\n",
    "    .set_title(\"Made vs Missed for Shot Distance\",fontsize=17))\n",
    "(sns.distplot(miss.SHOT_DIST, ax=axs[1], label='Missed')\n",
    "    .set_xlabel('xlabel'))\n",
    "\n",
    "ax.legend()\n",
    ";"
   ]
  },
  {
   "cell_type": "code",
   "execution_count": null,
   "metadata": {},
   "outputs": [],
   "source": [
    "df2 = df[['SHOT_NUMBER', 'GAME_CLOCK','SHOT_CLOCK', 'DRIBBLES', 'TOUCH_TIME',\n",
    "          'SHOT_DIST', 'CLOSE_DEF_DIST', 'FGM']]\n"
   ]
  },
  {
   "cell_type": "code",
   "execution_count": null,
   "metadata": {},
   "outputs": [],
   "source": [
    "sns.heatmap(df.corr());"
   ]
  },
  {
   "cell_type": "code",
   "execution_count": null,
   "metadata": {},
   "outputs": [],
   "source": [
    "sns.pairplot(df2)"
   ]
  },
  {
   "cell_type": "code",
   "execution_count": null,
   "metadata": {},
   "outputs": [],
   "source": []
  },
  {
   "cell_type": "markdown",
   "metadata": {},
   "source": [
    "### EDA By Spark SQL"
   ]
  },
  {
   "cell_type": "markdown",
   "metadata": {},
   "source": [
    "#### Import Spark Packages"
   ]
  },
  {
   "cell_type": "code",
   "execution_count": 33,
   "metadata": {},
   "outputs": [],
   "source": [
    "import json             # for parsing json formatted data\n",
    "import csv              # for the split_csvstring function from Part 3.2.2\n",
    "try:                    # Python 3 compatibility\n",
    "    from StringIO import StringIO\n",
    "except ImportError:\n",
    "    from io import StringIO\n",
    "import os               # for accessing env variables for AWS credentials\n"
   ]
  },
  {
   "cell_type": "code",
   "execution_count": 34,
   "metadata": {},
   "outputs": [],
   "source": [
    "import pyspark as ps"
   ]
  },
  {
   "cell_type": "code",
   "execution_count": 35,
   "metadata": {},
   "outputs": [],
   "source": [
    "spark = (ps.sql.SparkSession\n",
    "         .builder\n",
    "         .master('local[4]')\n",
    "         .appName('lecture')\n",
    "         .getOrCreate()\n",
    "        )\n",
    "sc = spark.sparkContext"
   ]
  },
  {
   "cell_type": "markdown",
   "metadata": {},
   "source": [
    "#### Shots Spark Dataframe"
   ]
  },
  {
   "cell_type": "code",
   "execution_count": 36,
   "metadata": {},
   "outputs": [],
   "source": [
    "# read csv file into DataFrame\n",
    "sdf = spark.read.csv('data/clean_shots_data.csv',\n",
    "                      header=True,       # use headers or not\n",
    "                      quote='\"',         # char for quotes\n",
    "                      sep=\",\",           # char for separation\n",
    "                      inferSchema=True)"
   ]
  },
  {
   "cell_type": "code",
   "execution_count": 37,
   "metadata": {},
   "outputs": [
    {
     "name": "stdout",
     "output_type": "stream",
     "text": [
      "root\n",
      " |-- GAME_ID: integer (nullable = true)\n",
      " |-- SHOT_NUMBER: integer (nullable = true)\n",
      " |-- PERIOD: integer (nullable = true)\n",
      " |-- GAME_CLOCK: integer (nullable = true)\n",
      " |-- SHOT_CLOCK: double (nullable = true)\n",
      " |-- DRIBBLES: integer (nullable = true)\n",
      " |-- TOUCH_TIME: double (nullable = true)\n",
      " |-- SHOT_DIST: double (nullable = true)\n",
      " |-- CLOSE_DEF_DIST: double (nullable = true)\n",
      " |-- PTS_TYPE: integer (nullable = true)\n",
      " |-- SHOT_RESULT: string (nullable = true)\n",
      " |-- FGM: integer (nullable = true)\n",
      " |-- PTS: integer (nullable = true)\n",
      " |-- player_name: string (nullable = true)\n",
      "\n"
     ]
    }
   ],
   "source": [
    "sdf.printSchema()"
   ]
  },
  {
   "cell_type": "code",
   "execution_count": 38,
   "metadata": {},
   "outputs": [],
   "source": [
    "sdf.createOrReplaceTempView('shots')"
   ]
  },
  {
   "cell_type": "code",
   "execution_count": 39,
   "metadata": {},
   "outputs": [
    {
     "name": "stdout",
     "output_type": "stream",
     "text": [
      "+-----------------------+\n",
      "|count(DISTINCT GAME_ID)|\n",
      "+-----------------------+\n",
      "|                    896|\n",
      "+-----------------------+\n",
      "\n"
     ]
    }
   ],
   "source": [
    "# Number of games\n",
    "query = '''SELECT COUNT(DISTINCT GAME_ID)\n",
    "           FROM shots\n",
    "        '''\n",
    "\n",
    "spark.sql(query).show()"
   ]
  },
  {
   "cell_type": "code",
   "execution_count": 65,
   "metadata": {},
   "outputs": [
    {
     "name": "stdout",
     "output_type": "stream",
     "text": [
      "+---------------------------+\n",
      "|count(DISTINCT player_name)|\n",
      "+---------------------------+\n",
      "|                        281|\n",
      "+---------------------------+\n",
      "\n"
     ]
    }
   ],
   "source": [
    "# Number of players\n",
    "query1 = '''SELECT COUNT(DISTINCT player_name)\n",
    "           FROM shots\n",
    "           \n",
    "        '''\n",
    "\n",
    "spark.sql(query1).show(5)"
   ]
  },
  {
   "cell_type": "code",
   "execution_count": null,
   "metadata": {},
   "outputs": [],
   "source": []
  }
 ],
 "metadata": {
  "kernelspec": {
   "display_name": "Python 3",
   "language": "python",
   "name": "python3"
  },
  "language_info": {
   "codemirror_mode": {
    "name": "ipython",
    "version": 3
   },
   "file_extension": ".py",
   "mimetype": "text/x-python",
   "name": "python",
   "nbconvert_exporter": "python",
   "pygments_lexer": "ipython3",
   "version": "3.7.6"
  }
 },
 "nbformat": 4,
 "nbformat_minor": 4
}
