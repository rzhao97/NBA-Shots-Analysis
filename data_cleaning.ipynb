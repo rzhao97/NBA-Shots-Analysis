{
 "cells": [
  {
   "cell_type": "markdown",
   "metadata": {},
   "source": [
    "# NBA Shots Taken 2014-15 Data Cleaning\n"
   ]
  },
  {
   "cell_type": "markdown",
   "metadata": {},
   "source": [
    "#### Import Python Packages"
   ]
  },
  {
   "cell_type": "code",
   "execution_count": 1,
   "metadata": {},
   "outputs": [],
   "source": [
    "import numpy as np\n",
    "import pandas as pd\n",
    "from scipy import stats"
   ]
  },
  {
   "cell_type": "code",
   "execution_count": 2,
   "metadata": {},
   "outputs": [],
   "source": [
    "from src.shot_functions import *"
   ]
  },
  {
   "cell_type": "markdown",
   "metadata": {},
   "source": [
    "#### Import Original Data"
   ]
  },
  {
   "cell_type": "code",
   "execution_count": 3,
   "metadata": {},
   "outputs": [],
   "source": [
    "# Import original data as pandas DataFrame df\n",
    "df = pd.read_csv('data/original_shots_data.csv')"
   ]
  },
  {
   "cell_type": "code",
   "execution_count": 4,
   "metadata": {},
   "outputs": [
    {
     "data": {
      "text/plain": [
       "GAME_ID                       False\n",
       "MATCHUP                       False\n",
       "LOCATION                      False\n",
       "W                             False\n",
       "FINAL_MARGIN                  False\n",
       "SHOT_NUMBER                   False\n",
       "PERIOD                        False\n",
       "GAME_CLOCK                    False\n",
       "SHOT_CLOCK                     True\n",
       "DRIBBLES                      False\n",
       "TOUCH_TIME                    False\n",
       "SHOT_DIST                     False\n",
       "PTS_TYPE                      False\n",
       "SHOT_RESULT                   False\n",
       "CLOSEST_DEFENDER              False\n",
       "CLOSEST_DEFENDER_PLAYER_ID    False\n",
       "CLOSE_DEF_DIST                False\n",
       "FGM                           False\n",
       "PTS                           False\n",
       "player_name                   False\n",
       "player_id                     False\n",
       "dtype: bool"
      ]
     },
     "execution_count": 4,
     "metadata": {},
     "output_type": "execute_result"
    }
   ],
   "source": [
    "# Check for null values\n",
    "df.isna().any()"
   ]
  },
  {
   "cell_type": "code",
   "execution_count": 5,
   "metadata": {},
   "outputs": [],
   "source": [
    "# Update df after dropping null values in SHOT_CLOCK\n",
    "df = df.dropna()"
   ]
  },
  {
   "cell_type": "code",
   "execution_count": 6,
   "metadata": {},
   "outputs": [
    {
     "name": "stdout",
     "output_type": "stream",
     "text": [
      "<class 'pandas.core.frame.DataFrame'>\n",
      "Int64Index: 122502 entries, 0 to 128067\n",
      "Data columns (total 21 columns):\n",
      " #   Column                      Non-Null Count   Dtype  \n",
      "---  ------                      --------------   -----  \n",
      " 0   GAME_ID                     122502 non-null  int64  \n",
      " 1   MATCHUP                     122502 non-null  object \n",
      " 2   LOCATION                    122502 non-null  object \n",
      " 3   W                           122502 non-null  object \n",
      " 4   FINAL_MARGIN                122502 non-null  int64  \n",
      " 5   SHOT_NUMBER                 122502 non-null  int64  \n",
      " 6   PERIOD                      122502 non-null  int64  \n",
      " 7   GAME_CLOCK                  122502 non-null  object \n",
      " 8   SHOT_CLOCK                  122502 non-null  float64\n",
      " 9   DRIBBLES                    122502 non-null  int64  \n",
      " 10  TOUCH_TIME                  122502 non-null  float64\n",
      " 11  SHOT_DIST                   122502 non-null  float64\n",
      " 12  PTS_TYPE                    122502 non-null  int64  \n",
      " 13  SHOT_RESULT                 122502 non-null  object \n",
      " 14  CLOSEST_DEFENDER            122502 non-null  object \n",
      " 15  CLOSEST_DEFENDER_PLAYER_ID  122502 non-null  int64  \n",
      " 16  CLOSE_DEF_DIST              122502 non-null  float64\n",
      " 17  FGM                         122502 non-null  int64  \n",
      " 18  PTS                         122502 non-null  int64  \n",
      " 19  player_name                 122502 non-null  object \n",
      " 20  player_id                   122502 non-null  int64  \n",
      "dtypes: float64(4), int64(10), object(7)\n",
      "memory usage: 20.6+ MB\n"
     ]
    }
   ],
   "source": [
    "# Look at df Columns and their datatypes\n",
    "df.info()"
   ]
  },
  {
   "cell_type": "code",
   "execution_count": 7,
   "metadata": {},
   "outputs": [],
   "source": [
    "#df.head()"
   ]
  },
  {
   "cell_type": "markdown",
   "metadata": {
    "heading_collapsed": true
   },
   "source": [
    "#### Clean Original Data"
   ]
  },
  {
   "cell_type": "code",
   "execution_count": 8,
   "metadata": {
    "hidden": true
   },
   "outputs": [],
   "source": [
    "# Extract Important Features\n",
    "df2 = df[['LOCATION', 'W', 'FINAL_MARGIN', 'SHOT_NUMBER', 'PERIOD', 'GAME_CLOCK',\n",
    "          'SHOT_CLOCK', 'DRIBBLES', 'TOUCH_TIME', 'SHOT_DIST', 'CLOSE_DEF_DIST',\n",
    "          'PTS_TYPE', 'SHOT_RESULT', 'FGM', 'PTS']]"
   ]
  },
  {
   "cell_type": "code",
   "execution_count": 9,
   "metadata": {
    "hidden": true
   },
   "outputs": [
    {
     "name": "stdout",
     "output_type": "stream",
     "text": [
      "<class 'pandas.core.frame.DataFrame'>\n",
      "Int64Index: 122502 entries, 0 to 128067\n",
      "Data columns (total 15 columns):\n",
      " #   Column          Non-Null Count   Dtype  \n",
      "---  ------          --------------   -----  \n",
      " 0   LOCATION        122502 non-null  object \n",
      " 1   W               122502 non-null  object \n",
      " 2   FINAL_MARGIN    122502 non-null  int64  \n",
      " 3   SHOT_NUMBER     122502 non-null  int64  \n",
      " 4   PERIOD          122502 non-null  int64  \n",
      " 5   GAME_CLOCK      122502 non-null  object \n",
      " 6   SHOT_CLOCK      122502 non-null  float64\n",
      " 7   DRIBBLES        122502 non-null  int64  \n",
      " 8   TOUCH_TIME      122502 non-null  float64\n",
      " 9   SHOT_DIST       122502 non-null  float64\n",
      " 10  CLOSE_DEF_DIST  122502 non-null  float64\n",
      " 11  PTS_TYPE        122502 non-null  int64  \n",
      " 12  SHOT_RESULT     122502 non-null  object \n",
      " 13  FGM             122502 non-null  int64  \n",
      " 14  PTS             122502 non-null  int64  \n",
      "dtypes: float64(4), int64(7), object(4)\n",
      "memory usage: 15.0+ MB\n"
     ]
    }
   ],
   "source": [
    "# Verify correct features were taken\n",
    "df2.info()"
   ]
  },
  {
   "cell_type": "code",
   "execution_count": 10,
   "metadata": {
    "hidden": true
   },
   "outputs": [],
   "source": [
    "# Remove TOUCH_TIME values that are 0 or below\n",
    "df2 = df2[df2.TOUCH_TIME > 0]"
   ]
  },
  {
   "cell_type": "code",
   "execution_count": 11,
   "metadata": {
    "hidden": true
   },
   "outputs": [],
   "source": [
    "# Remove incorrectly recorded 3 pointers\n",
    "df2 = df2[~((df2.PTS_TYPE==3) & (df2.SHOT_DIST<=22))]\n",
    "\n",
    "# Remove incorrectly recorded 2 pointers\n",
    "df2 = df2[~((df2.PTS_TYPE==2) & (df2.SHOT_DIST>23.75))]"
   ]
  },
  {
   "cell_type": "code",
   "execution_count": 12,
   "metadata": {
    "hidden": true
   },
   "outputs": [
    {
     "data": {
      "text/plain": [
       "('missed', 0)"
      ]
     },
     "execution_count": 12,
     "metadata": {},
     "output_type": "execute_result"
    }
   ],
   "source": [
    "df2.SHOT_RESULT[1], df2.FGM[1]"
   ]
  },
  {
   "cell_type": "code",
   "execution_count": 13,
   "metadata": {
    "hidden": true
   },
   "outputs": [
    {
     "data": {
      "text/plain": [
       "True"
      ]
     },
     "execution_count": 13,
     "metadata": {},
     "output_type": "execute_result"
    }
   ],
   "source": [
    "# Compare FGM (1&0) and SHOT_RESULT ('made'&'missed')\n",
    "df2.FGM.equals(df2.SHOT_RESULT.apply(binary_shot_result))"
   ]
  },
  {
   "cell_type": "code",
   "execution_count": 14,
   "metadata": {
    "hidden": true
   },
   "outputs": [
    {
     "data": {
      "text/plain": [
       "True"
      ]
     },
     "execution_count": 14,
     "metadata": {},
     "output_type": "execute_result"
    }
   ],
   "source": [
    "# Compare if PTS is equal to PTS_TYPE * FGM\n",
    "df2.PTS.equals(df2.PTS_TYPE * df2.FGM)"
   ]
  },
  {
   "cell_type": "code",
   "execution_count": 15,
   "metadata": {
    "hidden": true
   },
   "outputs": [],
   "source": [
    "# Use PERIOD and GAME_CLOCK to change GAME_CLOCK into seconds\n",
    "df2.GAME_CLOCK = df2.apply(lambda df2: game_seconds(df2.PERIOD, df2.GAME_CLOCK), axis=1)"
   ]
  },
  {
   "cell_type": "code",
   "execution_count": null,
   "metadata": {
    "hidden": true
   },
   "outputs": [],
   "source": []
  },
  {
   "cell_type": "code",
   "execution_count": 16,
   "metadata": {
    "hidden": true
   },
   "outputs": [
    {
     "data": {
      "text/html": [
       "<div>\n",
       "<style scoped>\n",
       "    .dataframe tbody tr th:only-of-type {\n",
       "        vertical-align: middle;\n",
       "    }\n",
       "\n",
       "    .dataframe tbody tr th {\n",
       "        vertical-align: top;\n",
       "    }\n",
       "\n",
       "    .dataframe thead th {\n",
       "        text-align: right;\n",
       "    }\n",
       "</style>\n",
       "<table border=\"1\" class=\"dataframe\">\n",
       "  <thead>\n",
       "    <tr style=\"text-align: right;\">\n",
       "      <th></th>\n",
       "      <th>LOCATION</th>\n",
       "      <th>W</th>\n",
       "      <th>FINAL_MARGIN</th>\n",
       "      <th>SHOT_NUMBER</th>\n",
       "      <th>PERIOD</th>\n",
       "      <th>GAME_CLOCK</th>\n",
       "      <th>SHOT_CLOCK</th>\n",
       "      <th>DRIBBLES</th>\n",
       "      <th>TOUCH_TIME</th>\n",
       "      <th>SHOT_DIST</th>\n",
       "      <th>CLOSE_DEF_DIST</th>\n",
       "      <th>PTS_TYPE</th>\n",
       "      <th>SHOT_RESULT</th>\n",
       "      <th>FGM</th>\n",
       "      <th>PTS</th>\n",
       "    </tr>\n",
       "  </thead>\n",
       "  <tbody>\n",
       "    <tr>\n",
       "      <th>0</th>\n",
       "      <td>A</td>\n",
       "      <td>W</td>\n",
       "      <td>24</td>\n",
       "      <td>1</td>\n",
       "      <td>1</td>\n",
       "      <td>69</td>\n",
       "      <td>10.8</td>\n",
       "      <td>2</td>\n",
       "      <td>1.9</td>\n",
       "      <td>7.7</td>\n",
       "      <td>1.3</td>\n",
       "      <td>2</td>\n",
       "      <td>made</td>\n",
       "      <td>1</td>\n",
       "      <td>2</td>\n",
       "    </tr>\n",
       "    <tr>\n",
       "      <th>1</th>\n",
       "      <td>A</td>\n",
       "      <td>W</td>\n",
       "      <td>24</td>\n",
       "      <td>2</td>\n",
       "      <td>1</td>\n",
       "      <td>14</td>\n",
       "      <td>3.4</td>\n",
       "      <td>0</td>\n",
       "      <td>0.8</td>\n",
       "      <td>28.2</td>\n",
       "      <td>6.1</td>\n",
       "      <td>3</td>\n",
       "      <td>missed</td>\n",
       "      <td>0</td>\n",
       "      <td>0</td>\n",
       "    </tr>\n",
       "    <tr>\n",
       "      <th>3</th>\n",
       "      <td>A</td>\n",
       "      <td>W</td>\n",
       "      <td>24</td>\n",
       "      <td>4</td>\n",
       "      <td>2</td>\n",
       "      <td>1427</td>\n",
       "      <td>10.3</td>\n",
       "      <td>2</td>\n",
       "      <td>1.9</td>\n",
       "      <td>17.2</td>\n",
       "      <td>3.4</td>\n",
       "      <td>2</td>\n",
       "      <td>missed</td>\n",
       "      <td>0</td>\n",
       "      <td>0</td>\n",
       "    </tr>\n",
       "    <tr>\n",
       "      <th>4</th>\n",
       "      <td>A</td>\n",
       "      <td>W</td>\n",
       "      <td>24</td>\n",
       "      <td>5</td>\n",
       "      <td>2</td>\n",
       "      <td>1354</td>\n",
       "      <td>10.9</td>\n",
       "      <td>2</td>\n",
       "      <td>2.7</td>\n",
       "      <td>3.7</td>\n",
       "      <td>1.1</td>\n",
       "      <td>2</td>\n",
       "      <td>missed</td>\n",
       "      <td>0</td>\n",
       "      <td>0</td>\n",
       "    </tr>\n",
       "    <tr>\n",
       "      <th>5</th>\n",
       "      <td>A</td>\n",
       "      <td>W</td>\n",
       "      <td>24</td>\n",
       "      <td>6</td>\n",
       "      <td>2</td>\n",
       "      <td>1215</td>\n",
       "      <td>9.1</td>\n",
       "      <td>2</td>\n",
       "      <td>4.4</td>\n",
       "      <td>18.4</td>\n",
       "      <td>2.6</td>\n",
       "      <td>2</td>\n",
       "      <td>missed</td>\n",
       "      <td>0</td>\n",
       "      <td>0</td>\n",
       "    </tr>\n",
       "  </tbody>\n",
       "</table>\n",
       "</div>"
      ],
      "text/plain": [
       "  LOCATION  W  FINAL_MARGIN  SHOT_NUMBER  PERIOD  GAME_CLOCK  SHOT_CLOCK  \\\n",
       "0        A  W            24            1       1          69        10.8   \n",
       "1        A  W            24            2       1          14         3.4   \n",
       "3        A  W            24            4       2        1427        10.3   \n",
       "4        A  W            24            5       2        1354        10.9   \n",
       "5        A  W            24            6       2        1215         9.1   \n",
       "\n",
       "   DRIBBLES  TOUCH_TIME  SHOT_DIST  CLOSE_DEF_DIST  PTS_TYPE SHOT_RESULT  FGM  \\\n",
       "0         2         1.9        7.7             1.3         2        made    1   \n",
       "1         0         0.8       28.2             6.1         3      missed    0   \n",
       "3         2         1.9       17.2             3.4         2      missed    0   \n",
       "4         2         2.7        3.7             1.1         2      missed    0   \n",
       "5         2         4.4       18.4             2.6         2      missed    0   \n",
       "\n",
       "   PTS  \n",
       "0    2  \n",
       "1    0  \n",
       "3    0  \n",
       "4    0  \n",
       "5    0  "
      ]
     },
     "execution_count": 16,
     "metadata": {},
     "output_type": "execute_result"
    }
   ],
   "source": [
    "df2.head()"
   ]
  },
  {
   "cell_type": "code",
   "execution_count": null,
   "metadata": {
    "hidden": true
   },
   "outputs": [],
   "source": []
  },
  {
   "cell_type": "code",
   "execution_count": null,
   "metadata": {
    "hidden": true
   },
   "outputs": [],
   "source": []
  },
  {
   "cell_type": "code",
   "execution_count": null,
   "metadata": {
    "hidden": true
   },
   "outputs": [],
   "source": []
  },
  {
   "cell_type": "code",
   "execution_count": null,
   "metadata": {
    "hidden": true
   },
   "outputs": [],
   "source": []
  },
  {
   "cell_type": "code",
   "execution_count": 17,
   "metadata": {
    "hidden": true
   },
   "outputs": [],
   "source": [
    "df2.to_csv('data/clean_shots_data.csv', index=False)"
   ]
  },
  {
   "cell_type": "code",
   "execution_count": null,
   "metadata": {
    "hidden": true
   },
   "outputs": [],
   "source": []
  }
 ],
 "metadata": {
  "kernelspec": {
   "display_name": "Python 3",
   "language": "python",
   "name": "python3"
  },
  "language_info": {
   "codemirror_mode": {
    "name": "ipython",
    "version": 3
   },
   "file_extension": ".py",
   "mimetype": "text/x-python",
   "name": "python",
   "nbconvert_exporter": "python",
   "pygments_lexer": "ipython3",
   "version": "3.7.6"
  }
 },
 "nbformat": 4,
 "nbformat_minor": 4
}
